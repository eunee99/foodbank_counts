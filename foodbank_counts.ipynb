{
 "cells": [
  {
   "cell_type": "markdown",
   "metadata": {},
   "source": [
    "**'물품 통계데이터' 통해 2020년 12월달 기준 최다 / 최소 기부물품 수 결과도출**"
   ]
  },
  {
   "cell_type": "code",
   "execution_count": null,
   "metadata": {},
   "outputs": [],
   "source": [
    "import requests, xmltodict, json\n",
    "\n",
    "#발급받은 키\n",
    "key = \"19vM2oN91lfEIct3GFXarpfrSEpXNX8RctXQgo1eynhRFhgnF3nI1qF1tZbgWNUPqjoiWsngP3%2FMLsPGX1nO0A%3D%3D\"\n",
    "#stdYm = 년도 월, numOfRows = 총 데이터 양\n",
    "url = \"http://apis.data.go.kr/B460014/foodBankInfoService2/getCnttgInfo?serviceKey={}\".format(key)+\"&stdrYm=202012&numOfRows=1000&pageNo=1\"\n",
    "\n",
    "content = requests.get(url).content\n",
    "\n",
    "dic = xmltodict.parse(content)\n",
    "jsonString = json.dumps(dic['response']['body'], ensure_ascii = False)\n",
    "jsonObj = json.loads(jsonString)\n",
    "\n",
    "print(jsonObj)"
   ]
  },
  {
   "cell_type": "code",
   "execution_count": null,
   "metadata": {},
   "outputs": [],
   "source": [
    "body = jsonObj['items']['item']\n",
    "print(body)"
   ]
  },
  {
   "cell_type": "code",
   "execution_count": null,
   "metadata": {},
   "outputs": [],
   "source": [
    "import pandas as pd\n",
    "from pandas.io.json import json_normalize\n",
    "import warnings\n",
    "warnings.simplefilter(action='ignore', category=FutureWarning)\n",
    "\n",
    "pd.set_option('display.max_rows', None)\n",
    "#df형태로 변환\n",
    "df = json_normalize(body)\n",
    "print(df)"
   ]
  },
  {
   "cell_type": "code",
   "execution_count": null,
   "metadata": {},
   "outputs": [],
   "source": [
    "#필요한 컬럼들로 filtered_df 생성\n",
    "#기부물품중분류코드, 기부물품수량 열만 가지고옴\n",
    "filtered_df = df[['cnttgMlsfcCd', 'cnttgQy']]\n",
    "print(filtered_df)"
   ]
  },
  {
   "cell_type": "code",
   "execution_count": null,
   "metadata": {},
   "outputs": [],
   "source": [
    "#데이터형태 변경으로 생기는 경고 제거\n",
    "pd.set_option('mode.chained_assignment',  None)\n",
    "\n",
    "#처음에 물품 수가 int형태로 안되어있어 제대로 정렬안됨\n",
    "#int로 형변환시켜줌\n",
    "filtered_df['cnttgQy'] = filtered_df['cnttgQy'].astype('int')\n",
    "\n",
    "#기부 물품 수 오름차순 정렬\n",
    "filtered_df.sort_values('cnttgQy', ascending=False)"
   ]
  },
  {
   "cell_type": "code",
   "execution_count": null,
   "metadata": {},
   "outputs": [],
   "source": [
    "#기부 물품 수 내림차순 정렬\n",
    "filtered_df.sort_values('cnttgQy', ascending=True)"
   ]
  },
  {
   "cell_type": "code",
   "execution_count": null,
   "metadata": {},
   "outputs": [],
   "source": []
  }
 ],
 "metadata": {
  "kernelspec": {
   "display_name": "Python 3",
   "language": "python",
   "name": "python3"
  },
  "language_info": {
   "codemirror_mode": {
    "name": "ipython",
    "version": 3
   },
   "file_extension": ".py",
   "mimetype": "text/x-python",
   "name": "python",
   "nbconvert_exporter": "python",
   "pygments_lexer": "ipython3",
   "version": "3.8.3"
  }
 },
 "nbformat": 4,
 "nbformat_minor": 4
}
